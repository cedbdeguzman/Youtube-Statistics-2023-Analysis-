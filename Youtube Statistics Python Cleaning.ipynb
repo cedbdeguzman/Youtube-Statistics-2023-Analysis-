{
 "cells": [
  {
   "cell_type": "code",
   "execution_count": 1,
   "id": "17b04554",
   "metadata": {},
   "outputs": [],
   "source": [
    "import numpy as np\n",
    "import pandas as pd\n",
    "import matplotlib.pyplot as plt\n",
    "import seaborn as sns"
   ]
  },
  {
   "cell_type": "code",
   "execution_count": 2,
   "id": "1a472117",
   "metadata": {},
   "outputs": [
    {
     "data": {
      "text/html": [
       "<div>\n",
       "<style scoped>\n",
       "    .dataframe tbody tr th:only-of-type {\n",
       "        vertical-align: middle;\n",
       "    }\n",
       "\n",
       "    .dataframe tbody tr th {\n",
       "        vertical-align: top;\n",
       "    }\n",
       "\n",
       "    .dataframe thead th {\n",
       "        text-align: right;\n",
       "    }\n",
       "</style>\n",
       "<table border=\"1\" class=\"dataframe\">\n",
       "  <thead>\n",
       "    <tr style=\"text-align: right;\">\n",
       "      <th></th>\n",
       "      <th>rank</th>\n",
       "      <th>Youtuber</th>\n",
       "      <th>subscribers</th>\n",
       "      <th>video views</th>\n",
       "      <th>category</th>\n",
       "      <th>Title</th>\n",
       "      <th>uploads</th>\n",
       "      <th>Country</th>\n",
       "      <th>Abbreviation</th>\n",
       "      <th>channel_type</th>\n",
       "      <th>...</th>\n",
       "      <th>subscribers_for_last_30_days</th>\n",
       "      <th>created_year</th>\n",
       "      <th>created_month</th>\n",
       "      <th>created_date</th>\n",
       "      <th>Gross tertiary education enrollment (%)</th>\n",
       "      <th>Population</th>\n",
       "      <th>Unemployment rate</th>\n",
       "      <th>Urban_population</th>\n",
       "      <th>Latitude</th>\n",
       "      <th>Longitude</th>\n",
       "    </tr>\n",
       "  </thead>\n",
       "  <tbody>\n",
       "    <tr>\n",
       "      <th>0</th>\n",
       "      <td>1</td>\n",
       "      <td>T-Series</td>\n",
       "      <td>245000000</td>\n",
       "      <td>2.280000e+11</td>\n",
       "      <td>Music</td>\n",
       "      <td>T-Series</td>\n",
       "      <td>20082</td>\n",
       "      <td>India</td>\n",
       "      <td>IN</td>\n",
       "      <td>Music</td>\n",
       "      <td>...</td>\n",
       "      <td>2000000.0</td>\n",
       "      <td>2006.0</td>\n",
       "      <td>Mar</td>\n",
       "      <td>13.0</td>\n",
       "      <td>28.1</td>\n",
       "      <td>1.366418e+09</td>\n",
       "      <td>5.36</td>\n",
       "      <td>471031528.0</td>\n",
       "      <td>20.593684</td>\n",
       "      <td>78.962880</td>\n",
       "    </tr>\n",
       "    <tr>\n",
       "      <th>1</th>\n",
       "      <td>2</td>\n",
       "      <td>YouTube Movies</td>\n",
       "      <td>170000000</td>\n",
       "      <td>0.000000e+00</td>\n",
       "      <td>Film &amp; Animation</td>\n",
       "      <td>youtubemovies</td>\n",
       "      <td>1</td>\n",
       "      <td>United States</td>\n",
       "      <td>US</td>\n",
       "      <td>Games</td>\n",
       "      <td>...</td>\n",
       "      <td>NaN</td>\n",
       "      <td>2006.0</td>\n",
       "      <td>Mar</td>\n",
       "      <td>5.0</td>\n",
       "      <td>88.2</td>\n",
       "      <td>3.282395e+08</td>\n",
       "      <td>14.70</td>\n",
       "      <td>270663028.0</td>\n",
       "      <td>37.090240</td>\n",
       "      <td>-95.712891</td>\n",
       "    </tr>\n",
       "    <tr>\n",
       "      <th>2</th>\n",
       "      <td>3</td>\n",
       "      <td>MrBeast</td>\n",
       "      <td>166000000</td>\n",
       "      <td>2.836884e+10</td>\n",
       "      <td>Entertainment</td>\n",
       "      <td>MrBeast</td>\n",
       "      <td>741</td>\n",
       "      <td>United States</td>\n",
       "      <td>US</td>\n",
       "      <td>Entertainment</td>\n",
       "      <td>...</td>\n",
       "      <td>8000000.0</td>\n",
       "      <td>2012.0</td>\n",
       "      <td>Feb</td>\n",
       "      <td>20.0</td>\n",
       "      <td>88.2</td>\n",
       "      <td>3.282395e+08</td>\n",
       "      <td>14.70</td>\n",
       "      <td>270663028.0</td>\n",
       "      <td>37.090240</td>\n",
       "      <td>-95.712891</td>\n",
       "    </tr>\n",
       "    <tr>\n",
       "      <th>3</th>\n",
       "      <td>4</td>\n",
       "      <td>Cocomelon - Nursery Rhymes</td>\n",
       "      <td>162000000</td>\n",
       "      <td>1.640000e+11</td>\n",
       "      <td>Education</td>\n",
       "      <td>Cocomelon - Nursery Rhymes</td>\n",
       "      <td>966</td>\n",
       "      <td>United States</td>\n",
       "      <td>US</td>\n",
       "      <td>Education</td>\n",
       "      <td>...</td>\n",
       "      <td>1000000.0</td>\n",
       "      <td>2006.0</td>\n",
       "      <td>Sep</td>\n",
       "      <td>1.0</td>\n",
       "      <td>88.2</td>\n",
       "      <td>3.282395e+08</td>\n",
       "      <td>14.70</td>\n",
       "      <td>270663028.0</td>\n",
       "      <td>37.090240</td>\n",
       "      <td>-95.712891</td>\n",
       "    </tr>\n",
       "    <tr>\n",
       "      <th>4</th>\n",
       "      <td>5</td>\n",
       "      <td>SET India</td>\n",
       "      <td>159000000</td>\n",
       "      <td>1.480000e+11</td>\n",
       "      <td>Shows</td>\n",
       "      <td>SET India</td>\n",
       "      <td>116536</td>\n",
       "      <td>India</td>\n",
       "      <td>IN</td>\n",
       "      <td>Entertainment</td>\n",
       "      <td>...</td>\n",
       "      <td>1000000.0</td>\n",
       "      <td>2006.0</td>\n",
       "      <td>Sep</td>\n",
       "      <td>20.0</td>\n",
       "      <td>28.1</td>\n",
       "      <td>1.366418e+09</td>\n",
       "      <td>5.36</td>\n",
       "      <td>471031528.0</td>\n",
       "      <td>20.593684</td>\n",
       "      <td>78.962880</td>\n",
       "    </tr>\n",
       "  </tbody>\n",
       "</table>\n",
       "<p>5 rows × 28 columns</p>\n",
       "</div>"
      ],
      "text/plain": [
       "   rank                    Youtuber  subscribers   video views  \\\n",
       "0     1                    T-Series    245000000  2.280000e+11   \n",
       "1     2              YouTube Movies    170000000  0.000000e+00   \n",
       "2     3                     MrBeast    166000000  2.836884e+10   \n",
       "3     4  Cocomelon - Nursery Rhymes    162000000  1.640000e+11   \n",
       "4     5                   SET India    159000000  1.480000e+11   \n",
       "\n",
       "           category                       Title  uploads        Country  \\\n",
       "0             Music                    T-Series    20082          India   \n",
       "1  Film & Animation               youtubemovies        1  United States   \n",
       "2     Entertainment                     MrBeast      741  United States   \n",
       "3         Education  Cocomelon - Nursery Rhymes      966  United States   \n",
       "4             Shows                   SET India   116536          India   \n",
       "\n",
       "  Abbreviation   channel_type  ...  subscribers_for_last_30_days  \\\n",
       "0           IN          Music  ...                     2000000.0   \n",
       "1           US          Games  ...                           NaN   \n",
       "2           US  Entertainment  ...                     8000000.0   \n",
       "3           US      Education  ...                     1000000.0   \n",
       "4           IN  Entertainment  ...                     1000000.0   \n",
       "\n",
       "   created_year  created_month  created_date  \\\n",
       "0        2006.0            Mar          13.0   \n",
       "1        2006.0            Mar           5.0   \n",
       "2        2012.0            Feb          20.0   \n",
       "3        2006.0            Sep           1.0   \n",
       "4        2006.0            Sep          20.0   \n",
       "\n",
       "   Gross tertiary education enrollment (%)    Population  Unemployment rate  \\\n",
       "0                                     28.1  1.366418e+09               5.36   \n",
       "1                                     88.2  3.282395e+08              14.70   \n",
       "2                                     88.2  3.282395e+08              14.70   \n",
       "3                                     88.2  3.282395e+08              14.70   \n",
       "4                                     28.1  1.366418e+09               5.36   \n",
       "\n",
       "   Urban_population   Latitude  Longitude  \n",
       "0       471031528.0  20.593684  78.962880  \n",
       "1       270663028.0  37.090240 -95.712891  \n",
       "2       270663028.0  37.090240 -95.712891  \n",
       "3       270663028.0  37.090240 -95.712891  \n",
       "4       471031528.0  20.593684  78.962880  \n",
       "\n",
       "[5 rows x 28 columns]"
      ]
     },
     "execution_count": 2,
     "metadata": {},
     "output_type": "execute_result"
    }
   ],
   "source": [
    "# Loading the CSV file\n",
    "data = pd.read_csv(r\"C:\\Users\\Ced\\Documents\\Benkyo\\Projects\\Youtube Statistics 2023\\Global YouTube Statistics 2023.csv\", encoding='windows-1252')\n",
    "data.head()"
   ]
  },
  {
   "cell_type": "code",
   "execution_count": 3,
   "id": "387f64a8",
   "metadata": {},
   "outputs": [
    {
     "data": {
      "text/plain": [
       "Index(['rank', 'Youtuber', 'subscribers', 'video views', 'category', 'Title',\n",
       "       'uploads', 'Country', 'Abbreviation', 'channel_type',\n",
       "       'video_views_rank', 'country_rank', 'channel_type_rank',\n",
       "       'video_views_for_the_last_30_days', 'lowest_monthly_earnings',\n",
       "       'highest_monthly_earnings', 'lowest_yearly_earnings',\n",
       "       'highest_yearly_earnings', 'subscribers_for_last_30_days',\n",
       "       'created_year', 'created_month', 'created_date',\n",
       "       'Gross tertiary education enrollment (%)', 'Population',\n",
       "       'Unemployment rate', 'Urban_population', 'Latitude', 'Longitude'],\n",
       "      dtype='object')"
      ]
     },
     "execution_count": 3,
     "metadata": {},
     "output_type": "execute_result"
    }
   ],
   "source": [
    "# Inspect any unnecessary characters from the column\n",
    "data.columns"
   ]
  },
  {
   "cell_type": "markdown",
   "id": "1f0473e4",
   "metadata": {},
   "source": [
    "### Data Cleaning"
   ]
  },
  {
   "cell_type": "code",
   "execution_count": 4,
   "id": "fa84babb",
   "metadata": {},
   "outputs": [],
   "source": [
    "# Replace any unncessary characters on each column title\n",
    "data.columns=data.columns.str.replace(' ','_')  \n",
    "data.columns=data.columns.str.replace(' (%)','')  \n",
    "data.columns=data.columns.str.replace('_(%)','')  \n",
    "data.columns=data.columns.str.title()"
   ]
  },
  {
   "cell_type": "code",
   "execution_count": 5,
   "id": "3be67fe3",
   "metadata": {},
   "outputs": [
    {
     "data": {
      "text/plain": [
       "Index(['Rank', 'Youtuber', 'Subscribers', 'Video_Views', 'Category', 'Title',\n",
       "       'Uploads', 'Country', 'Abbreviation', 'Channel_Type',\n",
       "       'Video_Views_Rank', 'Country_Rank', 'Channel_Type_Rank',\n",
       "       'Video_Views_For_The_Last_30_Days', 'Lowest_Monthly_Earnings',\n",
       "       'Highest_Monthly_Earnings', 'Lowest_Yearly_Earnings',\n",
       "       'Highest_Yearly_Earnings', 'Subscribers_For_Last_30_Days',\n",
       "       'Created_Year', 'Created_Month', 'Created_Date',\n",
       "       'Gross_Tertiary_Education_Enrollment', 'Population',\n",
       "       'Unemployment_Rate', 'Urban_Population', 'Latitude', 'Longitude'],\n",
       "      dtype='object')"
      ]
     },
     "execution_count": 5,
     "metadata": {},
     "output_type": "execute_result"
    }
   ],
   "source": [
    "data.columns"
   ]
  },
  {
   "cell_type": "code",
   "execution_count": 6,
   "id": "2ea050bf",
   "metadata": {},
   "outputs": [],
   "source": [
    "data=data[['Youtuber', 'Subscribers', 'Video_Views', 'Category', 'Title',\n",
    "       'Uploads', 'Country', 'Abbreviation', 'Channel_Type',\n",
    "       'Video_Views_Rank', 'Country_Rank', 'Channel_Type_Rank',\n",
    "       'Video_Views_For_The_Last_30_Days', 'Lowest_Monthly_Earnings',\n",
    "       'Highest_Monthly_Earnings', 'Lowest_Yearly_Earnings',\n",
    "       'Highest_Yearly_Earnings', 'Subscribers_For_Last_30_Days',\n",
    "       'Created_Year', 'Created_Month', 'Created_Date',\n",
    "       'Gross_Tertiary_Education_Enrollment', 'Population',\n",
    "       'Unemployment_Rate', 'Urban_Population', 'Latitude', 'Longitude']]"
   ]
  },
  {
   "cell_type": "code",
   "execution_count": 7,
   "id": "d8294d28",
   "metadata": {},
   "outputs": [
    {
     "data": {
      "text/plain": [
       "['Youtuber',\n",
       " 'Category',\n",
       " 'Title',\n",
       " 'Country',\n",
       " 'Abbreviation',\n",
       " 'Channel_Type',\n",
       " 'Created_Month']"
      ]
     },
     "execution_count": 7,
     "metadata": {},
     "output_type": "execute_result"
    }
   ],
   "source": [
    "# List all object columns in the data\n",
    "[col for col, dt in data.dtypes.items() if dt == object] "
   ]
  },
  {
   "cell_type": "code",
   "execution_count": 8,
   "id": "8144ffff",
   "metadata": {},
   "outputs": [
    {
     "data": {
      "text/html": [
       "<div>\n",
       "<style scoped>\n",
       "    .dataframe tbody tr th:only-of-type {\n",
       "        vertical-align: middle;\n",
       "    }\n",
       "\n",
       "    .dataframe tbody tr th {\n",
       "        vertical-align: top;\n",
       "    }\n",
       "\n",
       "    .dataframe thead th {\n",
       "        text-align: right;\n",
       "    }\n",
       "</style>\n",
       "<table border=\"1\" class=\"dataframe\">\n",
       "  <thead>\n",
       "    <tr style=\"text-align: right;\">\n",
       "      <th></th>\n",
       "      <th>Youtuber</th>\n",
       "      <th>Category</th>\n",
       "      <th>Title</th>\n",
       "      <th>Country</th>\n",
       "      <th>Abbreviation</th>\n",
       "      <th>Channel_Type</th>\n",
       "      <th>Created_Month</th>\n",
       "    </tr>\n",
       "  </thead>\n",
       "  <tbody>\n",
       "    <tr>\n",
       "      <th>0</th>\n",
       "      <td>T-Series</td>\n",
       "      <td>Music</td>\n",
       "      <td>T-Series</td>\n",
       "      <td>India</td>\n",
       "      <td>IN</td>\n",
       "      <td>Music</td>\n",
       "      <td>Mar</td>\n",
       "    </tr>\n",
       "    <tr>\n",
       "      <th>1</th>\n",
       "      <td>YouTube Movies</td>\n",
       "      <td>Film &amp; Animation</td>\n",
       "      <td>youtubemovies</td>\n",
       "      <td>United States</td>\n",
       "      <td>US</td>\n",
       "      <td>Games</td>\n",
       "      <td>Mar</td>\n",
       "    </tr>\n",
       "    <tr>\n",
       "      <th>2</th>\n",
       "      <td>MrBeast</td>\n",
       "      <td>Entertainment</td>\n",
       "      <td>MrBeast</td>\n",
       "      <td>United States</td>\n",
       "      <td>US</td>\n",
       "      <td>Entertainment</td>\n",
       "      <td>Feb</td>\n",
       "    </tr>\n",
       "    <tr>\n",
       "      <th>3</th>\n",
       "      <td>Cocomelon - Nursery Rhymes</td>\n",
       "      <td>Education</td>\n",
       "      <td>Cocomelon - Nursery Rhymes</td>\n",
       "      <td>United States</td>\n",
       "      <td>US</td>\n",
       "      <td>Education</td>\n",
       "      <td>Sep</td>\n",
       "    </tr>\n",
       "    <tr>\n",
       "      <th>4</th>\n",
       "      <td>SET India</td>\n",
       "      <td>Shows</td>\n",
       "      <td>SET India</td>\n",
       "      <td>India</td>\n",
       "      <td>IN</td>\n",
       "      <td>Entertainment</td>\n",
       "      <td>Sep</td>\n",
       "    </tr>\n",
       "    <tr>\n",
       "      <th>...</th>\n",
       "      <td>...</td>\n",
       "      <td>...</td>\n",
       "      <td>...</td>\n",
       "      <td>...</td>\n",
       "      <td>...</td>\n",
       "      <td>...</td>\n",
       "      <td>...</td>\n",
       "    </tr>\n",
       "    <tr>\n",
       "      <th>990</th>\n",
       "      <td>Natan por Aï¿</td>\n",
       "      <td>Sports</td>\n",
       "      <td>Natan por Aï¿</td>\n",
       "      <td>Brazil</td>\n",
       "      <td>BR</td>\n",
       "      <td>Entertainment</td>\n",
       "      <td>Feb</td>\n",
       "    </tr>\n",
       "    <tr>\n",
       "      <th>991</th>\n",
       "      <td>Free Fire India Official</td>\n",
       "      <td>People &amp; Blogs</td>\n",
       "      <td>Free Fire India Official</td>\n",
       "      <td>India</td>\n",
       "      <td>IN</td>\n",
       "      <td>Games</td>\n",
       "      <td>Sep</td>\n",
       "    </tr>\n",
       "    <tr>\n",
       "      <th>992</th>\n",
       "      <td>Panda</td>\n",
       "      <td>NaN</td>\n",
       "      <td>HybridPanda</td>\n",
       "      <td>United Kingdom</td>\n",
       "      <td>GB</td>\n",
       "      <td>Games</td>\n",
       "      <td>Sep</td>\n",
       "    </tr>\n",
       "    <tr>\n",
       "      <th>993</th>\n",
       "      <td>RobTopGames</td>\n",
       "      <td>Gaming</td>\n",
       "      <td>RobTopGames</td>\n",
       "      <td>Sweden</td>\n",
       "      <td>SE</td>\n",
       "      <td>Games</td>\n",
       "      <td>May</td>\n",
       "    </tr>\n",
       "    <tr>\n",
       "      <th>994</th>\n",
       "      <td>Make Joke Of</td>\n",
       "      <td>Comedy</td>\n",
       "      <td>Make Joke Of</td>\n",
       "      <td>India</td>\n",
       "      <td>IN</td>\n",
       "      <td>Comedy</td>\n",
       "      <td>Aug</td>\n",
       "    </tr>\n",
       "  </tbody>\n",
       "</table>\n",
       "<p>995 rows × 7 columns</p>\n",
       "</div>"
      ],
      "text/plain": [
       "                       Youtuber          Category                       Title  \\\n",
       "0                      T-Series             Music                    T-Series   \n",
       "1                YouTube Movies  Film & Animation               youtubemovies   \n",
       "2                       MrBeast     Entertainment                     MrBeast   \n",
       "3    Cocomelon - Nursery Rhymes         Education  Cocomelon - Nursery Rhymes   \n",
       "4                     SET India             Shows                   SET India   \n",
       "..                          ...               ...                         ...   \n",
       "990               Natan por Aï¿            Sports               Natan por Aï¿   \n",
       "991    Free Fire India Official    People & Blogs    Free Fire India Official   \n",
       "992                       Panda               NaN                 HybridPanda   \n",
       "993                 RobTopGames            Gaming                 RobTopGames   \n",
       "994                Make Joke Of            Comedy                Make Joke Of   \n",
       "\n",
       "            Country Abbreviation   Channel_Type Created_Month  \n",
       "0             India           IN          Music           Mar  \n",
       "1     United States           US          Games           Mar  \n",
       "2     United States           US  Entertainment           Feb  \n",
       "3     United States           US      Education           Sep  \n",
       "4             India           IN  Entertainment           Sep  \n",
       "..              ...          ...            ...           ...  \n",
       "990          Brazil           BR  Entertainment           Feb  \n",
       "991           India           IN          Games           Sep  \n",
       "992  United Kingdom           GB          Games           Sep  \n",
       "993          Sweden           SE          Games           May  \n",
       "994           India           IN         Comedy           Aug  \n",
       "\n",
       "[995 rows x 7 columns]"
      ]
     },
     "execution_count": 8,
     "metadata": {},
     "output_type": "execute_result"
    }
   ],
   "source": [
    "data[[\n",
    " 'Youtuber',\n",
    " 'Category',\n",
    " 'Title',\n",
    " 'Country',\n",
    " 'Abbreviation',\n",
    " 'Channel_Type',\n",
    " 'Created_Month']]"
   ]
  },
  {
   "cell_type": "code",
   "execution_count": 9,
   "id": "c81097c9",
   "metadata": {},
   "outputs": [],
   "source": [
    "# Drop the duplicate columns\n",
    "# In this case, Youtuber and title has the same category values. \n",
    "# Abbreviation is also not necessary since there is already the country column\n",
    "data = data[['Youtuber', 'Subscribers', 'Video_Views', 'Category',\n",
    "       'Uploads', 'Country', 'Channel_Type',\n",
    "       'Video_Views_Rank', 'Country_Rank', 'Channel_Type_Rank',\n",
    "       'Video_Views_For_The_Last_30_Days', 'Lowest_Monthly_Earnings',\n",
    "       'Highest_Monthly_Earnings', 'Lowest_Yearly_Earnings',\n",
    "       'Highest_Yearly_Earnings', 'Subscribers_For_Last_30_Days',\n",
    "       'Created_Year', 'Created_Month', 'Created_Date',\n",
    "       'Gross_Tertiary_Education_Enrollment', 'Population',\n",
    "       'Unemployment_Rate', 'Urban_Population', 'Latitude', 'Longitude']]"
   ]
  },
  {
   "cell_type": "code",
   "execution_count": 10,
   "id": "fc19d5eb",
   "metadata": {},
   "outputs": [
    {
     "data": {
      "text/html": [
       "<div>\n",
       "<style scoped>\n",
       "    .dataframe tbody tr th:only-of-type {\n",
       "        vertical-align: middle;\n",
       "    }\n",
       "\n",
       "    .dataframe tbody tr th {\n",
       "        vertical-align: top;\n",
       "    }\n",
       "\n",
       "    .dataframe thead th {\n",
       "        text-align: right;\n",
       "    }\n",
       "</style>\n",
       "<table border=\"1\" class=\"dataframe\">\n",
       "  <thead>\n",
       "    <tr style=\"text-align: right;\">\n",
       "      <th></th>\n",
       "      <th>Youtuber</th>\n",
       "      <th>Subscribers</th>\n",
       "      <th>Video_Views</th>\n",
       "      <th>Category</th>\n",
       "      <th>Uploads</th>\n",
       "      <th>Country</th>\n",
       "      <th>Channel_Type</th>\n",
       "      <th>Video_Views_Rank</th>\n",
       "      <th>Country_Rank</th>\n",
       "      <th>Channel_Type_Rank</th>\n",
       "      <th>...</th>\n",
       "      <th>Subscribers_For_Last_30_Days</th>\n",
       "      <th>Created_Year</th>\n",
       "      <th>Created_Month</th>\n",
       "      <th>Created_Date</th>\n",
       "      <th>Gross_Tertiary_Education_Enrollment</th>\n",
       "      <th>Population</th>\n",
       "      <th>Unemployment_Rate</th>\n",
       "      <th>Urban_Population</th>\n",
       "      <th>Latitude</th>\n",
       "      <th>Longitude</th>\n",
       "    </tr>\n",
       "  </thead>\n",
       "  <tbody>\n",
       "    <tr>\n",
       "      <th>0</th>\n",
       "      <td>T-Series</td>\n",
       "      <td>245000000</td>\n",
       "      <td>2.280000e+11</td>\n",
       "      <td>Music</td>\n",
       "      <td>20082</td>\n",
       "      <td>India</td>\n",
       "      <td>Music</td>\n",
       "      <td>1.0</td>\n",
       "      <td>1.0</td>\n",
       "      <td>1.0</td>\n",
       "      <td>...</td>\n",
       "      <td>2000000.0</td>\n",
       "      <td>2006.0</td>\n",
       "      <td>Mar</td>\n",
       "      <td>13.0</td>\n",
       "      <td>28.1</td>\n",
       "      <td>1.366418e+09</td>\n",
       "      <td>5.36</td>\n",
       "      <td>471031528.0</td>\n",
       "      <td>20.593684</td>\n",
       "      <td>78.962880</td>\n",
       "    </tr>\n",
       "    <tr>\n",
       "      <th>1</th>\n",
       "      <td>YouTube Movies</td>\n",
       "      <td>170000000</td>\n",
       "      <td>0.000000e+00</td>\n",
       "      <td>Film &amp; Animation</td>\n",
       "      <td>1</td>\n",
       "      <td>United States</td>\n",
       "      <td>Games</td>\n",
       "      <td>4055159.0</td>\n",
       "      <td>7670.0</td>\n",
       "      <td>7423.0</td>\n",
       "      <td>...</td>\n",
       "      <td>NaN</td>\n",
       "      <td>2006.0</td>\n",
       "      <td>Mar</td>\n",
       "      <td>5.0</td>\n",
       "      <td>88.2</td>\n",
       "      <td>3.282395e+08</td>\n",
       "      <td>14.70</td>\n",
       "      <td>270663028.0</td>\n",
       "      <td>37.090240</td>\n",
       "      <td>-95.712891</td>\n",
       "    </tr>\n",
       "    <tr>\n",
       "      <th>2</th>\n",
       "      <td>MrBeast</td>\n",
       "      <td>166000000</td>\n",
       "      <td>2.836884e+10</td>\n",
       "      <td>Entertainment</td>\n",
       "      <td>741</td>\n",
       "      <td>United States</td>\n",
       "      <td>Entertainment</td>\n",
       "      <td>48.0</td>\n",
       "      <td>1.0</td>\n",
       "      <td>1.0</td>\n",
       "      <td>...</td>\n",
       "      <td>8000000.0</td>\n",
       "      <td>2012.0</td>\n",
       "      <td>Feb</td>\n",
       "      <td>20.0</td>\n",
       "      <td>88.2</td>\n",
       "      <td>3.282395e+08</td>\n",
       "      <td>14.70</td>\n",
       "      <td>270663028.0</td>\n",
       "      <td>37.090240</td>\n",
       "      <td>-95.712891</td>\n",
       "    </tr>\n",
       "    <tr>\n",
       "      <th>3</th>\n",
       "      <td>Cocomelon - Nursery Rhymes</td>\n",
       "      <td>162000000</td>\n",
       "      <td>1.640000e+11</td>\n",
       "      <td>Education</td>\n",
       "      <td>966</td>\n",
       "      <td>United States</td>\n",
       "      <td>Education</td>\n",
       "      <td>2.0</td>\n",
       "      <td>2.0</td>\n",
       "      <td>1.0</td>\n",
       "      <td>...</td>\n",
       "      <td>1000000.0</td>\n",
       "      <td>2006.0</td>\n",
       "      <td>Sep</td>\n",
       "      <td>1.0</td>\n",
       "      <td>88.2</td>\n",
       "      <td>3.282395e+08</td>\n",
       "      <td>14.70</td>\n",
       "      <td>270663028.0</td>\n",
       "      <td>37.090240</td>\n",
       "      <td>-95.712891</td>\n",
       "    </tr>\n",
       "    <tr>\n",
       "      <th>4</th>\n",
       "      <td>SET India</td>\n",
       "      <td>159000000</td>\n",
       "      <td>1.480000e+11</td>\n",
       "      <td>Shows</td>\n",
       "      <td>116536</td>\n",
       "      <td>India</td>\n",
       "      <td>Entertainment</td>\n",
       "      <td>3.0</td>\n",
       "      <td>2.0</td>\n",
       "      <td>2.0</td>\n",
       "      <td>...</td>\n",
       "      <td>1000000.0</td>\n",
       "      <td>2006.0</td>\n",
       "      <td>Sep</td>\n",
       "      <td>20.0</td>\n",
       "      <td>28.1</td>\n",
       "      <td>1.366418e+09</td>\n",
       "      <td>5.36</td>\n",
       "      <td>471031528.0</td>\n",
       "      <td>20.593684</td>\n",
       "      <td>78.962880</td>\n",
       "    </tr>\n",
       "  </tbody>\n",
       "</table>\n",
       "<p>5 rows × 25 columns</p>\n",
       "</div>"
      ],
      "text/plain": [
       "                     Youtuber  Subscribers   Video_Views          Category  \\\n",
       "0                    T-Series    245000000  2.280000e+11             Music   \n",
       "1              YouTube Movies    170000000  0.000000e+00  Film & Animation   \n",
       "2                     MrBeast    166000000  2.836884e+10     Entertainment   \n",
       "3  Cocomelon - Nursery Rhymes    162000000  1.640000e+11         Education   \n",
       "4                   SET India    159000000  1.480000e+11             Shows   \n",
       "\n",
       "   Uploads        Country   Channel_Type  Video_Views_Rank  Country_Rank  \\\n",
       "0    20082          India          Music               1.0           1.0   \n",
       "1        1  United States          Games         4055159.0        7670.0   \n",
       "2      741  United States  Entertainment              48.0           1.0   \n",
       "3      966  United States      Education               2.0           2.0   \n",
       "4   116536          India  Entertainment               3.0           2.0   \n",
       "\n",
       "   Channel_Type_Rank  ...  Subscribers_For_Last_30_Days  Created_Year  \\\n",
       "0                1.0  ...                     2000000.0        2006.0   \n",
       "1             7423.0  ...                           NaN        2006.0   \n",
       "2                1.0  ...                     8000000.0        2012.0   \n",
       "3                1.0  ...                     1000000.0        2006.0   \n",
       "4                2.0  ...                     1000000.0        2006.0   \n",
       "\n",
       "   Created_Month  Created_Date  Gross_Tertiary_Education_Enrollment  \\\n",
       "0            Mar          13.0                                 28.1   \n",
       "1            Mar           5.0                                 88.2   \n",
       "2            Feb          20.0                                 88.2   \n",
       "3            Sep           1.0                                 88.2   \n",
       "4            Sep          20.0                                 28.1   \n",
       "\n",
       "     Population  Unemployment_Rate Urban_Population   Latitude  Longitude  \n",
       "0  1.366418e+09               5.36      471031528.0  20.593684  78.962880  \n",
       "1  3.282395e+08              14.70      270663028.0  37.090240 -95.712891  \n",
       "2  3.282395e+08              14.70      270663028.0  37.090240 -95.712891  \n",
       "3  3.282395e+08              14.70      270663028.0  37.090240 -95.712891  \n",
       "4  1.366418e+09               5.36      471031528.0  20.593684  78.962880  \n",
       "\n",
       "[5 rows x 25 columns]"
      ]
     },
     "execution_count": 10,
     "metadata": {},
     "output_type": "execute_result"
    }
   ],
   "source": [
    "data.head()"
   ]
  },
  {
   "cell_type": "code",
   "execution_count": 11,
   "id": "0f43d67e",
   "metadata": {},
   "outputs": [],
   "source": [
    "# List all the object columns\n",
    "object_column=[col for col, dt in data.dtypes.items() if dt == object] "
   ]
  },
  {
   "cell_type": "code",
   "execution_count": 12,
   "id": "7a25625a",
   "metadata": {},
   "outputs": [],
   "source": [
    "# Replace any underscore character with space for each object column\n",
    "data['Youtuber']=data['Youtuber'].str.replace('_', ' ')\n",
    "data['Category']=data['Category'].str.replace('_', ' ')\n",
    "data['Country']=data['Country'].str.replace('_', ' ')\n",
    "data['Channel_Type']=data['Channel_Type'].str.replace('_', ' ')\n",
    "data['Created_Month']=data['Created_Month'].str.replace('_', ' ')"
   ]
  },
  {
   "cell_type": "code",
   "execution_count": 13,
   "id": "3e5ef3be",
   "metadata": {},
   "outputs": [],
   "source": [
    "# Capitalize each word for each object column\n",
    "data['Youtuber']=data['Youtuber'].str.title()\n",
    "data['Category']=data['Category'].str.title()\n",
    "data['Country']=data['Country'].str.title()\n",
    "data['Channel_Type']=data['Channel_Type'].str.title()\n",
    "data['Created_Month']=data['Created_Month'].str.title()"
   ]
  },
  {
   "cell_type": "code",
   "execution_count": 14,
   "id": "19b3b40b",
   "metadata": {},
   "outputs": [
    {
     "data": {
      "text/html": [
       "<div>\n",
       "<style scoped>\n",
       "    .dataframe tbody tr th:only-of-type {\n",
       "        vertical-align: middle;\n",
       "    }\n",
       "\n",
       "    .dataframe tbody tr th {\n",
       "        vertical-align: top;\n",
       "    }\n",
       "\n",
       "    .dataframe thead th {\n",
       "        text-align: right;\n",
       "    }\n",
       "</style>\n",
       "<table border=\"1\" class=\"dataframe\">\n",
       "  <thead>\n",
       "    <tr style=\"text-align: right;\">\n",
       "      <th></th>\n",
       "      <th>Youtuber</th>\n",
       "      <th>Category</th>\n",
       "      <th>Country</th>\n",
       "      <th>Channel_Type</th>\n",
       "      <th>Created_Month</th>\n",
       "    </tr>\n",
       "  </thead>\n",
       "  <tbody>\n",
       "    <tr>\n",
       "      <th>0</th>\n",
       "      <td>T-Series</td>\n",
       "      <td>Music</td>\n",
       "      <td>India</td>\n",
       "      <td>Music</td>\n",
       "      <td>Mar</td>\n",
       "    </tr>\n",
       "    <tr>\n",
       "      <th>1</th>\n",
       "      <td>Youtube Movies</td>\n",
       "      <td>Film &amp; Animation</td>\n",
       "      <td>United States</td>\n",
       "      <td>Games</td>\n",
       "      <td>Mar</td>\n",
       "    </tr>\n",
       "    <tr>\n",
       "      <th>2</th>\n",
       "      <td>Mrbeast</td>\n",
       "      <td>Entertainment</td>\n",
       "      <td>United States</td>\n",
       "      <td>Entertainment</td>\n",
       "      <td>Feb</td>\n",
       "    </tr>\n",
       "    <tr>\n",
       "      <th>3</th>\n",
       "      <td>Cocomelon - Nursery Rhymes</td>\n",
       "      <td>Education</td>\n",
       "      <td>United States</td>\n",
       "      <td>Education</td>\n",
       "      <td>Sep</td>\n",
       "    </tr>\n",
       "    <tr>\n",
       "      <th>4</th>\n",
       "      <td>Set India</td>\n",
       "      <td>Shows</td>\n",
       "      <td>India</td>\n",
       "      <td>Entertainment</td>\n",
       "      <td>Sep</td>\n",
       "    </tr>\n",
       "    <tr>\n",
       "      <th>...</th>\n",
       "      <td>...</td>\n",
       "      <td>...</td>\n",
       "      <td>...</td>\n",
       "      <td>...</td>\n",
       "      <td>...</td>\n",
       "    </tr>\n",
       "    <tr>\n",
       "      <th>990</th>\n",
       "      <td>Natan Por Aï¿</td>\n",
       "      <td>Sports</td>\n",
       "      <td>Brazil</td>\n",
       "      <td>Entertainment</td>\n",
       "      <td>Feb</td>\n",
       "    </tr>\n",
       "    <tr>\n",
       "      <th>991</th>\n",
       "      <td>Free Fire India Official</td>\n",
       "      <td>People &amp; Blogs</td>\n",
       "      <td>India</td>\n",
       "      <td>Games</td>\n",
       "      <td>Sep</td>\n",
       "    </tr>\n",
       "    <tr>\n",
       "      <th>992</th>\n",
       "      <td>Panda</td>\n",
       "      <td>NaN</td>\n",
       "      <td>United Kingdom</td>\n",
       "      <td>Games</td>\n",
       "      <td>Sep</td>\n",
       "    </tr>\n",
       "    <tr>\n",
       "      <th>993</th>\n",
       "      <td>Robtopgames</td>\n",
       "      <td>Gaming</td>\n",
       "      <td>Sweden</td>\n",
       "      <td>Games</td>\n",
       "      <td>May</td>\n",
       "    </tr>\n",
       "    <tr>\n",
       "      <th>994</th>\n",
       "      <td>Make Joke Of</td>\n",
       "      <td>Comedy</td>\n",
       "      <td>India</td>\n",
       "      <td>Comedy</td>\n",
       "      <td>Aug</td>\n",
       "    </tr>\n",
       "  </tbody>\n",
       "</table>\n",
       "<p>995 rows × 5 columns</p>\n",
       "</div>"
      ],
      "text/plain": [
       "                       Youtuber          Category         Country  \\\n",
       "0                      T-Series             Music           India   \n",
       "1                Youtube Movies  Film & Animation   United States   \n",
       "2                       Mrbeast     Entertainment   United States   \n",
       "3    Cocomelon - Nursery Rhymes         Education   United States   \n",
       "4                     Set India             Shows           India   \n",
       "..                          ...               ...             ...   \n",
       "990               Natan Por Aï¿            Sports          Brazil   \n",
       "991    Free Fire India Official    People & Blogs           India   \n",
       "992                       Panda               NaN  United Kingdom   \n",
       "993                 Robtopgames            Gaming          Sweden   \n",
       "994                Make Joke Of            Comedy           India   \n",
       "\n",
       "      Channel_Type Created_Month  \n",
       "0            Music           Mar  \n",
       "1            Games           Mar  \n",
       "2    Entertainment           Feb  \n",
       "3        Education           Sep  \n",
       "4    Entertainment           Sep  \n",
       "..             ...           ...  \n",
       "990  Entertainment           Feb  \n",
       "991          Games           Sep  \n",
       "992          Games           Sep  \n",
       "993          Games           May  \n",
       "994         Comedy           Aug  \n",
       "\n",
       "[995 rows x 5 columns]"
      ]
     },
     "execution_count": 14,
     "metadata": {},
     "output_type": "execute_result"
    }
   ],
   "source": [
    "# Check if the format is good\n",
    "data.loc[:,object_column] "
   ]
  },
  {
   "cell_type": "code",
   "execution_count": 15,
   "id": "eed64a63",
   "metadata": {},
   "outputs": [
    {
     "data": {
      "text/plain": [
       "False"
      ]
     },
     "execution_count": 15,
     "metadata": {},
     "output_type": "execute_result"
    }
   ],
   "source": [
    "# Check if there are any duplicate rows\n",
    "data.duplicated().any() "
   ]
  },
  {
   "cell_type": "code",
   "execution_count": 16,
   "id": "63701fae",
   "metadata": {},
   "outputs": [
    {
     "data": {
      "text/plain": [
       "['Video_Views',\n",
       " 'Video_Views_Rank',\n",
       " 'Country_Rank',\n",
       " 'Channel_Type_Rank',\n",
       " 'Video_Views_For_The_Last_30_Days',\n",
       " 'Lowest_Monthly_Earnings',\n",
       " 'Highest_Monthly_Earnings',\n",
       " 'Lowest_Yearly_Earnings',\n",
       " 'Highest_Yearly_Earnings',\n",
       " 'Subscribers_For_Last_30_Days',\n",
       " 'Created_Year',\n",
       " 'Created_Date',\n",
       " 'Gross_Tertiary_Education_Enrollment',\n",
       " 'Population',\n",
       " 'Unemployment_Rate',\n",
       " 'Urban_Population',\n",
       " 'Latitude',\n",
       " 'Longitude']"
      ]
     },
     "execution_count": 16,
     "metadata": {},
     "output_type": "execute_result"
    }
   ],
   "source": [
    "# List all the numeric columns\n",
    "numeric_column=[col for col, dt in data.dtypes.items() if ((dt == int) | (dt == float))] \n",
    "numeric_column"
   ]
  },
  {
   "cell_type": "markdown",
   "id": "0fa5a814",
   "metadata": {},
   "source": [
    "### Detecting Outliers"
   ]
  },
  {
   "cell_type": "code",
   "execution_count": 17,
   "id": "df25595f",
   "metadata": {},
   "outputs": [
    {
     "data": {
      "image/png": "[encoded data removed]",
      "text/plain": [
       "<Figure size 640x480 with 1 Axes>"
      ]
     },
     "metadata": {},
     "output_type": "display_data"
    }
   ],
   "source": [
    "# IQR rule to use for the skewed distribution\n",
    "q25,q75=np.percentile(data['Video_Views'],(25,75))\n",
    "iqr=q75-q25 \n",
    "min_1=q25-1.5*iqr \n",
    "max_1=q75+1.5*iqr\n",
    "sns.boxplot(x=data['Video_Views']);"
   ]
  },
  {
   "cell_type": "code",
   "execution_count": 18,
   "id": "a533bd01",
   "metadata": {},
   "outputs": [
    {
     "data": {
      "text/plain": [
       "0    2.280000e+11\n",
       "2    2.836884e+10\n",
       "3    1.640000e+11\n",
       "4    1.480000e+11\n",
       "6    9.324704e+10\n",
       "Name: Video_Views, dtype: float64"
      ]
     },
     "execution_count": 18,
     "metadata": {},
     "output_type": "execute_result"
    }
   ],
   "source": [
    "# Show some of the outliers in the video views\n",
    "data['Video_Views'].loc[data['Video_Views']>max_1].head()  "
   ]
  },
  {
   "cell_type": "markdown",
   "id": "3c93006a",
   "metadata": {},
   "source": [
    "* In this case, we will retain these values since they are valid number of video views in youtube"
   ]
  },
  {
   "cell_type": "code",
   "execution_count": 19,
   "id": "a9139917",
   "metadata": {},
   "outputs": [
    {
     "data": {
      "image/png": "[encoded data removed]",
      "text/plain": [
       "<Figure size 640x480 with 1 Axes>"
      ]
     },
     "metadata": {},
     "output_type": "display_data"
    }
   ],
   "source": [
    "q25,q75=np.percentile(data['Video_Views_Rank'],(25,75))\n",
    "iqr=q75-q25 \n",
    "min_2=q25-1.5*iqr \n",
    "max_2=q75+1.5*iqr\n",
    "sns.boxplot(x=data['Video_Views_Rank']);"
   ]
  },
  {
   "cell_type": "code",
   "execution_count": 20,
   "id": "d4abc0f1",
   "metadata": {},
   "outputs": [
    {
     "data": {
      "text/html": [
       "<div>\n",
       "<style scoped>\n",
       "    .dataframe tbody tr th:only-of-type {\n",
       "        vertical-align: middle;\n",
       "    }\n",
       "\n",
       "    .dataframe tbody tr th {\n",
       "        vertical-align: top;\n",
       "    }\n",
       "\n",
       "    .dataframe thead th {\n",
       "        text-align: right;\n",
       "    }\n",
       "</style>\n",
       "<table border=\"1\" class=\"dataframe\">\n",
       "  <thead>\n",
       "    <tr style=\"text-align: right;\">\n",
       "      <th></th>\n",
       "      <th>Youtuber</th>\n",
       "      <th>Subscribers</th>\n",
       "      <th>Video_Views</th>\n",
       "      <th>Category</th>\n",
       "      <th>Uploads</th>\n",
       "      <th>Country</th>\n",
       "      <th>Channel_Type</th>\n",
       "      <th>Video_Views_Rank</th>\n",
       "      <th>Country_Rank</th>\n",
       "      <th>Channel_Type_Rank</th>\n",
       "      <th>...</th>\n",
       "      <th>Subscribers_For_Last_30_Days</th>\n",
       "      <th>Created_Year</th>\n",
       "      <th>Created_Month</th>\n",
       "      <th>Created_Date</th>\n",
       "      <th>Gross_Tertiary_Education_Enrollment</th>\n",
       "      <th>Population</th>\n",
       "      <th>Unemployment_Rate</th>\n",
       "      <th>Urban_Population</th>\n",
       "      <th>Latitude</th>\n",
       "      <th>Longitude</th>\n",
       "    </tr>\n",
       "  </thead>\n",
       "  <tbody>\n",
       "  </tbody>\n",
       "</table>\n",
       "<p>0 rows × 25 columns</p>\n",
       "</div>"
      ],
      "text/plain": [
       "Empty DataFrame\n",
       "Columns: [Youtuber, Subscribers, Video_Views, Category, Uploads, Country, Channel_Type, Video_Views_Rank, Country_Rank, Channel_Type_Rank, Video_Views_For_The_Last_30_Days, Lowest_Monthly_Earnings, Highest_Monthly_Earnings, Lowest_Yearly_Earnings, Highest_Yearly_Earnings, Subscribers_For_Last_30_Days, Created_Year, Created_Month, Created_Date, Gross_Tertiary_Education_Enrollment, Population, Unemployment_Rate, Urban_Population, Latitude, Longitude]\n",
       "Index: []\n",
       "\n",
       "[0 rows x 25 columns]"
      ]
     },
     "execution_count": 20,
     "metadata": {},
     "output_type": "execute_result"
    }
   ],
   "source": [
    "data.loc[data['Video_Views_Rank']>max_2]"
   ]
  },
  {
   "cell_type": "markdown",
   "id": "949f862b",
   "metadata": {},
   "source": [
    "* There are no outliers present in the video views rank"
   ]
  },
  {
   "cell_type": "code",
   "execution_count": 21,
   "id": "c0cbc056",
   "metadata": {},
   "outputs": [
    {
     "data": {
      "image/png": "[encoded data removed]",
      "text/plain": [
       "<Figure size 640x480 with 1 Axes>"
      ]
     },
     "metadata": {},
     "output_type": "display_data"
    }
   ],
   "source": [
    "q25,q75=np.percentile(data['Country_Rank'],(25,75))\n",
    "iqr=q75-q25 \n",
    "min_3=q25-1.5*iqr \n",
    "max_3=q75+1.5*iqr\n",
    "sns.boxplot(x=data['Country_Rank']);"
   ]
  },
  {
   "cell_type": "code",
   "execution_count": 22,
   "id": "47f10eae",
   "metadata": {
    "scrolled": true
   },
   "outputs": [
    {
     "data": {
      "text/html": [
       "<div>\n",
       "<style scoped>\n",
       "    .dataframe tbody tr th:only-of-type {\n",
       "        vertical-align: middle;\n",
       "    }\n",
       "\n",
       "    .dataframe tbody tr th {\n",
       "        vertical-align: top;\n",
       "    }\n",
       "\n",
       "    .dataframe thead th {\n",
       "        text-align: right;\n",
       "    }\n",
       "</style>\n",
       "<table border=\"1\" class=\"dataframe\">\n",
       "  <thead>\n",
       "    <tr style=\"text-align: right;\">\n",
       "      <th></th>\n",
       "      <th>Youtuber</th>\n",
       "      <th>Subscribers</th>\n",
       "      <th>Video_Views</th>\n",
       "      <th>Category</th>\n",
       "      <th>Uploads</th>\n",
       "      <th>Country</th>\n",
       "      <th>Channel_Type</th>\n",
       "      <th>Video_Views_Rank</th>\n",
       "      <th>Country_Rank</th>\n",
       "      <th>Channel_Type_Rank</th>\n",
       "      <th>...</th>\n",
       "      <th>Subscribers_For_Last_30_Days</th>\n",
       "      <th>Created_Year</th>\n",
       "      <th>Created_Month</th>\n",
       "      <th>Created_Date</th>\n",
       "      <th>Gross_Tertiary_Education_Enrollment</th>\n",
       "      <th>Population</th>\n",
       "      <th>Unemployment_Rate</th>\n",
       "      <th>Urban_Population</th>\n",
       "      <th>Latitude</th>\n",
       "      <th>Longitude</th>\n",
       "    </tr>\n",
       "  </thead>\n",
       "  <tbody>\n",
       "  </tbody>\n",
       "</table>\n",
       "<p>0 rows × 25 columns</p>\n",
       "</div>"
      ],
      "text/plain": [
       "Empty DataFrame\n",
       "Columns: [Youtuber, Subscribers, Video_Views, Category, Uploads, Country, Channel_Type, Video_Views_Rank, Country_Rank, Channel_Type_Rank, Video_Views_For_The_Last_30_Days, Lowest_Monthly_Earnings, Highest_Monthly_Earnings, Lowest_Yearly_Earnings, Highest_Yearly_Earnings, Subscribers_For_Last_30_Days, Created_Year, Created_Month, Created_Date, Gross_Tertiary_Education_Enrollment, Population, Unemployment_Rate, Urban_Population, Latitude, Longitude]\n",
       "Index: []\n",
       "\n",
       "[0 rows x 25 columns]"
      ]
     },
     "execution_count": 22,
     "metadata": {},
     "output_type": "execute_result"
    }
   ],
   "source": [
    "data.loc[data['Country_Rank']>max_3] "
   ]
  },
  {
   "cell_type": "markdown",
   "id": "ac1bd603",
   "metadata": {},
   "source": [
    "* There are no outliers present in the country rank"
   ]
  },
  {
   "cell_type": "code",
   "execution_count": 23,
   "id": "86a96969",
   "metadata": {},
   "outputs": [
    {
     "data": {
      "image/png": "[encoded data removed]",
      "text/plain": [
       "<Figure size 640x480 with 1 Axes>"
      ]
     },
     "metadata": {},
     "output_type": "display_data"
    }
   ],
   "source": [
    "q25,q75=np.percentile(data['Channel_Type_Rank'],(25,75))\n",
    "iqr=q75-q25 \n",
    "min_4=q25-1.5*iqr\n",
    "max_4=q75+1.5*iqr\n",
    "sns.boxplot(x=data['Channel_Type_Rank']);"
   ]
  },
  {
   "cell_type": "code",
   "execution_count": 24,
   "id": "ddcc833f",
   "metadata": {},
   "outputs": [
    {
     "data": {
      "text/html": [
       "<div>\n",
       "<style scoped>\n",
       "    .dataframe tbody tr th:only-of-type {\n",
       "        vertical-align: middle;\n",
       "    }\n",
       "\n",
       "    .dataframe tbody tr th {\n",
       "        vertical-align: top;\n",
       "    }\n",
       "\n",
       "    .dataframe thead th {\n",
       "        text-align: right;\n",
       "    }\n",
       "</style>\n",
       "<table border=\"1\" class=\"dataframe\">\n",
       "  <thead>\n",
       "    <tr style=\"text-align: right;\">\n",
       "      <th></th>\n",
       "      <th>Youtuber</th>\n",
       "      <th>Subscribers</th>\n",
       "      <th>Video_Views</th>\n",
       "      <th>Category</th>\n",
       "      <th>Uploads</th>\n",
       "      <th>Country</th>\n",
       "      <th>Channel_Type</th>\n",
       "      <th>Video_Views_Rank</th>\n",
       "      <th>Country_Rank</th>\n",
       "      <th>Channel_Type_Rank</th>\n",
       "      <th>...</th>\n",
       "      <th>Subscribers_For_Last_30_Days</th>\n",
       "      <th>Created_Year</th>\n",
       "      <th>Created_Month</th>\n",
       "      <th>Created_Date</th>\n",
       "      <th>Gross_Tertiary_Education_Enrollment</th>\n",
       "      <th>Population</th>\n",
       "      <th>Unemployment_Rate</th>\n",
       "      <th>Urban_Population</th>\n",
       "      <th>Latitude</th>\n",
       "      <th>Longitude</th>\n",
       "    </tr>\n",
       "  </thead>\n",
       "  <tbody>\n",
       "  </tbody>\n",
       "</table>\n",
       "<p>0 rows × 25 columns</p>\n",
       "</div>"
      ],
      "text/plain": [
       "Empty DataFrame\n",
       "Columns: [Youtuber, Subscribers, Video_Views, Category, Uploads, Country, Channel_Type, Video_Views_Rank, Country_Rank, Channel_Type_Rank, Video_Views_For_The_Last_30_Days, Lowest_Monthly_Earnings, Highest_Monthly_Earnings, Lowest_Yearly_Earnings, Highest_Yearly_Earnings, Subscribers_For_Last_30_Days, Created_Year, Created_Month, Created_Date, Gross_Tertiary_Education_Enrollment, Population, Unemployment_Rate, Urban_Population, Latitude, Longitude]\n",
       "Index: []\n",
       "\n",
       "[0 rows x 25 columns]"
      ]
     },
     "execution_count": 24,
     "metadata": {},
     "output_type": "execute_result"
    }
   ],
   "source": [
    "data.loc[data['Channel_Type_Rank']>max_4] "
   ]
  },
  {
   "cell_type": "markdown",
   "id": "70ac6fa5",
   "metadata": {},
   "source": [
    "* There are no outliers present in the Channel Type Rank"
   ]
  },
  {
   "cell_type": "code",
   "execution_count": 25,
   "id": "3cb8fccc",
   "metadata": {},
   "outputs": [
    {
     "data": {
      "image/png": "[encoded data removed]",
      "text/plain": [
       "<Figure size 640x480 with 1 Axes>"
      ]
     },
     "metadata": {},
     "output_type": "display_data"
    }
   ],
   "source": [
    "q25,q75=np.percentile(data['Video_Views_For_The_Last_30_Days'], (25,75))\n",
    "iqr = q75-q25 \n",
    "min_5=q25-1.5*iqr\n",
    "max_5=q75+1.5*iqr\n",
    "sns.boxplot(x=data['Video_Views_For_The_Last_30_Days']);"
   ]
  },
  {
   "cell_type": "code",
   "execution_count": 26,
   "id": "991c1545",
   "metadata": {},
   "outputs": [
    {
     "data": {
      "text/html": [
       "<div>\n",
       "<style scoped>\n",
       "    .dataframe tbody tr th:only-of-type {\n",
       "        vertical-align: middle;\n",
       "    }\n",
       "\n",
       "    .dataframe tbody tr th {\n",
       "        vertical-align: top;\n",
       "    }\n",
       "\n",
       "    .dataframe thead th {\n",
       "        text-align: right;\n",
       "    }\n",
       "</style>\n",
       "<table border=\"1\" class=\"dataframe\">\n",
       "  <thead>\n",
       "    <tr style=\"text-align: right;\">\n",
       "      <th></th>\n",
       "      <th>Youtuber</th>\n",
       "      <th>Subscribers</th>\n",
       "      <th>Video_Views</th>\n",
       "      <th>Category</th>\n",
       "      <th>Uploads</th>\n",
       "      <th>Country</th>\n",
       "      <th>Channel_Type</th>\n",
       "      <th>Video_Views_Rank</th>\n",
       "      <th>Country_Rank</th>\n",
       "      <th>Channel_Type_Rank</th>\n",
       "      <th>...</th>\n",
       "      <th>Subscribers_For_Last_30_Days</th>\n",
       "      <th>Created_Year</th>\n",
       "      <th>Created_Month</th>\n",
       "      <th>Created_Date</th>\n",
       "      <th>Gross_Tertiary_Education_Enrollment</th>\n",
       "      <th>Population</th>\n",
       "      <th>Unemployment_Rate</th>\n",
       "      <th>Urban_Population</th>\n",
       "      <th>Latitude</th>\n",
       "      <th>Longitude</th>\n",
       "    </tr>\n",
       "  </thead>\n",
       "  <tbody>\n",
       "  </tbody>\n",
       "</table>\n",
       "<p>0 rows × 25 columns</p>\n",
       "</div>"
      ],
      "text/plain": [
       "Empty DataFrame\n",
       "Columns: [Youtuber, Subscribers, Video_Views, Category, Uploads, Country, Channel_Type, Video_Views_Rank, Country_Rank, Channel_Type_Rank, Video_Views_For_The_Last_30_Days, Lowest_Monthly_Earnings, Highest_Monthly_Earnings, Lowest_Yearly_Earnings, Highest_Yearly_Earnings, Subscribers_For_Last_30_Days, Created_Year, Created_Month, Created_Date, Gross_Tertiary_Education_Enrollment, Population, Unemployment_Rate, Urban_Population, Latitude, Longitude]\n",
       "Index: []\n",
       "\n",
       "[0 rows x 25 columns]"
      ]
     },
     "execution_count": 26,
     "metadata": {},
     "output_type": "execute_result"
    }
   ],
   "source": [
    "data.loc[data['Video_Views_For_The_Last_30_Days']>max_5] "
   ]
  },
  {
   "cell_type": "markdown",
   "id": "e8027217",
   "metadata": {},
   "source": [
    "* There are no outliers present in the Video Views for the Last 30 Days "
   ]
  },
  {
   "cell_type": "code",
   "execution_count": 27,
   "id": "848ede41",
   "metadata": {},
   "outputs": [
    {
     "data": {
      "image/png": "[encoded data removed]",
      "text/plain": [
       "<Figure size 640x480 with 1 Axes>"
      ]
     },
     "metadata": {},
     "output_type": "display_data"
    }
   ],
   "source": [
    "q25,q75=np.percentile(data['Lowest_Monthly_Earnings'],(25,75))\n",
    "iqr=q75-q25 \n",
    "min_6=q25-1.5*iqr\n",
    "max_6=q75+1.5*iqr\n",
    "sns.boxplot(x=data['Lowest_Monthly_Earnings']);"
   ]
  },
  {
   "cell_type": "code",
   "execution_count": 28,
   "id": "e45e4b08",
   "metadata": {},
   "outputs": [
    {
     "data": {
      "text/plain": [
       "0      564600.0\n",
       "2      337000.0\n",
       "3      493800.0\n",
       "4      455900.0\n",
       "6      182900.0\n",
       "         ...   \n",
       "858     99400.0\n",
       "905    270300.0\n",
       "908     92100.0\n",
       "970    225900.0\n",
       "990    138100.0\n",
       "Name: Lowest_Monthly_Earnings, Length: 99, dtype: float64"
      ]
     },
     "execution_count": 28,
     "metadata": {},
     "output_type": "execute_result"
    }
   ],
   "source": [
    "data['Lowest_Monthly_Earnings'].loc[data['Lowest_Monthly_Earnings']>max_6] "
   ]
  },
  {
   "cell_type": "markdown",
   "id": "fb6313d5",
   "metadata": {},
   "source": [
    "* We will retain these outliers since it is almost 10% of the total values and also these outliers are valid youtube earnings. "
   ]
  },
  {
   "cell_type": "code",
   "execution_count": 29,
   "id": "c00d0cc3",
   "metadata": {},
   "outputs": [
    {
     "data": {
      "image/png": "[encoded data removed]",
      "text/plain": [
       "<Figure size 640x480 with 1 Axes>"
      ]
     },
     "metadata": {},
     "output_type": "display_data"
    }
   ],
   "source": [
    "q25,q75=np.percentile(data['Highest_Monthly_Earnings'],(25,75))\n",
    "iqr = q75-q25 \n",
    "min_7=q25-1.5*iqr\n",
    "max_7=q75+1.5*iqr\n",
    "sns.boxplot(x=data['Highest_Monthly_Earnings']);"
   ]
  },
  {
   "cell_type": "code",
   "execution_count": 30,
   "id": "f65b4902",
   "metadata": {},
   "outputs": [
    {
     "data": {
      "text/plain": [
       "0      9000000.0\n",
       "2      5400000.0\n",
       "3      7900000.0\n",
       "4      7300000.0\n",
       "6      2900000.0\n",
       "         ...    \n",
       "858    1600000.0\n",
       "905    4300000.0\n",
       "908    1500000.0\n",
       "970    3600000.0\n",
       "990    2200000.0\n",
       "Name: Highest_Monthly_Earnings, Length: 99, dtype: float64"
      ]
     },
     "execution_count": 30,
     "metadata": {},
     "output_type": "execute_result"
    }
   ],
   "source": [
    "data['Highest_Monthly_Earnings'].loc[data['Highest_Monthly_Earnings']>max_7] "
   ]
  },
  {
   "cell_type": "markdown",
   "id": "c06d1ea7",
   "metadata": {},
   "source": [
    "* We will also retain these outliers since it is almost 10% of the total values and also these outliers are valid youtube earnings. "
   ]
  },
  {
   "cell_type": "code",
   "execution_count": 31,
   "id": "0112edd5",
   "metadata": {},
   "outputs": [
    {
     "data": {
      "image/png": "[encoded data removed]",
      "text/plain": [
       "<Figure size 640x480 with 1 Axes>"
      ]
     },
     "metadata": {},
     "output_type": "display_data"
    }
   ],
   "source": [
    "q25,q75=np.percentile(data['Lowest_Yearly_Earnings'],(25,75))\n",
    "iqr=q75-q25 \n",
    "min_8=q25-1.5*iqr\n",
    "max_8=q75+1.5*iqr\n",
    "sns.boxplot(x=data['Lowest_Yearly_Earnings']);"
   ]
  },
  {
   "cell_type": "code",
   "execution_count": 32,
   "id": "696138f2",
   "metadata": {},
   "outputs": [
    {
     "data": {
      "text/plain": [
       "0      6800000.0\n",
       "2      4000000.0\n",
       "3      5900000.0\n",
       "4      5500000.0\n",
       "6      2200000.0\n",
       "         ...    \n",
       "858    1200000.0\n",
       "905    3200000.0\n",
       "908    1100000.0\n",
       "970    2700000.0\n",
       "990    1700000.0\n",
       "Name: Lowest_Yearly_Earnings, Length: 102, dtype: float64"
      ]
     },
     "execution_count": 32,
     "metadata": {},
     "output_type": "execute_result"
    }
   ],
   "source": [
    "data['Lowest_Yearly_Earnings'].loc[data['Lowest_Yearly_Earnings']>max_8] "
   ]
  },
  {
   "cell_type": "markdown",
   "id": "a7b446e4",
   "metadata": {},
   "source": [
    "* We will also retain these outliers since it is almost 10% of the total values and also these outliers are valid youtube earnings. "
   ]
  },
  {
   "cell_type": "code",
   "execution_count": 33,
   "id": "ca47591c",
   "metadata": {},
   "outputs": [
    {
     "data": {
      "image/png": "[encoded data removed]",
      "text/plain": [
       "<Figure size 640x480 with 1 Axes>"
      ]
     },
     "metadata": {},
     "output_type": "display_data"
    }
   ],
   "source": [
    "q25,q75=np.percentile(data['Highest_Yearly_Earnings'],(25,75))\n",
    "iqr=q75-q25 \n",
    "min_9=q25-1.5*iqr\n",
    "max_9=q75+1.5*iqr\n",
    "sns.boxplot(x=data['Highest_Yearly_Earnings']);"
   ]
  },
  {
   "cell_type": "code",
   "execution_count": 34,
   "id": "ce78dfef",
   "metadata": {},
   "outputs": [
    {
     "data": {
      "text/plain": [
       "0      108400000.0\n",
       "2       64700000.0\n",
       "3       94800000.0\n",
       "4       87500000.0\n",
       "6       35100000.0\n",
       "          ...     \n",
       "858     19100000.0\n",
       "905     51900000.0\n",
       "908     17700000.0\n",
       "970     43400000.0\n",
       "990     26500000.0\n",
       "Name: Highest_Yearly_Earnings, Length: 99, dtype: float64"
      ]
     },
     "execution_count": 34,
     "metadata": {},
     "output_type": "execute_result"
    }
   ],
   "source": [
    "data['Highest_Yearly_Earnings'].loc[data['Highest_Yearly_Earnings']>max_9]"
   ]
  },
  {
   "cell_type": "markdown",
   "id": "5a6284f2",
   "metadata": {},
   "source": [
    "* We will also retain these outliers since it is almost 10% of the total values and also these outliers are valid youtube earnings. "
   ]
  },
  {
   "cell_type": "code",
   "execution_count": 35,
   "id": "4354fa4e",
   "metadata": {},
   "outputs": [
    {
     "data": {
      "image/png": "[encoded data removed]",
      "text/plain": [
       "<Figure size 640x480 with 1 Axes>"
      ]
     },
     "metadata": {},
     "output_type": "display_data"
    }
   ],
   "source": [
    "q25,q75=np.percentile(data['Subscribers_For_Last_30_Days'],(25,75))\n",
    "iqr=q75-q25 \n",
    "min_10=q25-1.5*iqr\n",
    "max_10=q75 +1.5*iqr\n",
    "sns.boxplot(x=data['Subscribers_For_Last_30_Days']);"
   ]
  },
  {
   "cell_type": "code",
   "execution_count": 36,
   "id": "19810f2e",
   "metadata": {},
   "outputs": [
    {
     "data": {
      "text/plain": [
       "Series([], Name: Subscribers_For_Last_30_Days, dtype: float64)"
      ]
     },
     "execution_count": 36,
     "metadata": {},
     "output_type": "execute_result"
    }
   ],
   "source": [
    "data['Subscribers_For_Last_30_Days'].loc[data['Subscribers_For_Last_30_Days']>max_10]"
   ]
  },
  {
   "cell_type": "code",
   "execution_count": 37,
   "id": "32e3efa9",
   "metadata": {},
   "outputs": [
    {
     "data": {
      "image/png": "[encoded data removed]",
      "text/plain": [
       "<Figure size 640x480 with 1 Axes>"
      ]
     },
     "metadata": {},
     "output_type": "display_data"
    }
   ],
   "source": [
    "sns.boxplot(x=data['Gross_Tertiary_Education_Enrollment']);"
   ]
  },
  {
   "cell_type": "code",
   "execution_count": 38,
   "id": "5563108e",
   "metadata": {},
   "outputs": [
    {
     "data": {
      "text/plain": [
       "191    113.1\n",
       "247    113.1\n",
       "373    113.1\n",
       "478    113.1\n",
       "508    113.1\n",
       "522    113.1\n",
       "526    113.1\n",
       "706    113.1\n",
       "785    113.1\n",
       "Name: Gross_Tertiary_Education_Enrollment, dtype: float64"
      ]
     },
     "execution_count": 38,
     "metadata": {},
     "output_type": "execute_result"
    }
   ],
   "source": [
    "data['Gross_Tertiary_Education_Enrollment'].loc[data['Gross_Tertiary_Education_Enrollment']>100]"
   ]
  },
  {
   "cell_type": "markdown",
   "id": "950a9430",
   "metadata": {},
   "source": [
    "* There are data that are greater than 100%, we will replace those by 100% since 100% is the max percentage value."
   ]
  },
  {
   "cell_type": "code",
   "execution_count": 39,
   "id": "8582685d",
   "metadata": {},
   "outputs": [],
   "source": [
    "data['Gross_Tertiary_Education_Enrollment']=np.where(data['Gross_Tertiary_Education_Enrollment']>100,100,data['Gross_Tertiary_Education_Enrollment'])"
   ]
  },
  {
   "cell_type": "code",
   "execution_count": 40,
   "id": "0347c982",
   "metadata": {},
   "outputs": [
    {
     "data": {
      "text/plain": [
       "191    100.0\n",
       "247    100.0\n",
       "373    100.0\n",
       "478    100.0\n",
       "508    100.0\n",
       "522    100.0\n",
       "526    100.0\n",
       "706    100.0\n",
       "785    100.0\n",
       "Name: Gross_Tertiary_Education_Enrollment, dtype: float64"
      ]
     },
     "execution_count": 40,
     "metadata": {},
     "output_type": "execute_result"
    }
   ],
   "source": [
    "data['Gross_Tertiary_Education_Enrollment'].loc[data['Gross_Tertiary_Education_Enrollment']==100]"
   ]
  },
  {
   "cell_type": "code",
   "execution_count": 41,
   "id": "b6764cca",
   "metadata": {},
   "outputs": [
    {
     "data": {
      "image/png": "[encoded data removed]",
      "text/plain": [
       "<Figure size 640x480 with 1 Axes>"
      ]
     },
     "metadata": {},
     "output_type": "display_data"
    }
   ],
   "source": [
    "sns.boxplot(x=data['Population']);\n",
    "q25,q75=np.percentile(data['Population'],(25,75))\n",
    "iqr=q75-q25 \n",
    "min_11=q25-1.5*iqr\n",
    "max_11=q75+1.5*iqr"
   ]
  },
  {
   "cell_type": "code",
   "execution_count": 42,
   "id": "47efec0b",
   "metadata": {},
   "outputs": [
    {
     "data": {
      "text/plain": [
       "Series([], Name: Population, dtype: float64)"
      ]
     },
     "execution_count": 42,
     "metadata": {},
     "output_type": "execute_result"
    }
   ],
   "source": [
    "data['Population'].loc[data['Population']>max_11]"
   ]
  },
  {
   "cell_type": "markdown",
   "id": "834cb9c0",
   "metadata": {},
   "source": [
    "* There are no outliers present in the Population"
   ]
  },
  {
   "cell_type": "code",
   "execution_count": 43,
   "id": "ca1f1be6",
   "metadata": {},
   "outputs": [
    {
     "data": {
      "image/png": "[encoded data removed]",
      "text/plain": [
       "<Figure size 640x480 with 1 Axes>"
      ]
     },
     "metadata": {},
     "output_type": "display_data"
    }
   ],
   "source": [
    "sns.boxplot(x=data['Unemployment_Rate']);\n",
    "q25,q75=np.percentile(data['Unemployment_Rate'],(25,75))\n",
    "iqr=q75-q25 \n",
    "min_12=q25-1.5*iqr\n",
    "max_12=q75+1.5*iqr"
   ]
  },
  {
   "cell_type": "code",
   "execution_count": 44,
   "id": "607164f2",
   "metadata": {},
   "outputs": [
    {
     "data": {
      "text/plain": [
       "Series([], Name: Unemployment_Rate, dtype: float64)"
      ]
     },
     "execution_count": 44,
     "metadata": {},
     "output_type": "execute_result"
    }
   ],
   "source": [
    "data['Unemployment_Rate'].loc[data['Unemployment_Rate']>max_12]"
   ]
  },
  {
   "cell_type": "code",
   "execution_count": 45,
   "id": "b894f025",
   "metadata": {},
   "outputs": [
    {
     "data": {
      "image/png": "[encoded data removed]",
      "text/plain": [
       "<Figure size 640x480 with 1 Axes>"
      ]
     },
     "metadata": {},
     "output_type": "display_data"
    }
   ],
   "source": [
    "sns.boxplot(x=data['Urban_Population']);\n",
    "q25,q75=np.percentile(data['Urban_Population'],(25,75))\n",
    "iqr=q75-q25 \n",
    "min_13=q25-1.5*iqr\n",
    "max_13=q75+1.5*iqr"
   ]
  },
  {
   "cell_type": "code",
   "execution_count": 46,
   "id": "7eed84c2",
   "metadata": {},
   "outputs": [
    {
     "data": {
      "text/plain": [
       "Series([], Name: Urban_Population, dtype: float64)"
      ]
     },
     "execution_count": 46,
     "metadata": {},
     "output_type": "execute_result"
    }
   ],
   "source": [
    "data['Urban_Population'].loc[data['Urban_Population']>max_13]"
   ]
  },
  {
   "cell_type": "markdown",
   "id": "404f48c4",
   "metadata": {},
   "source": [
    "* There are no outliers present in the Urban Population"
   ]
  },
  {
   "cell_type": "markdown",
   "id": "6fcde8cd",
   "metadata": {},
   "source": [
    "### Handling Null Values"
   ]
  },
  {
   "cell_type": "code",
   "execution_count": 47,
   "id": "b42e0a49",
   "metadata": {},
   "outputs": [
    {
     "data": {
      "text/plain": [
       "Youtuber                                 0\n",
       "Subscribers                              0\n",
       "Video_Views                              0\n",
       "Category                                46\n",
       "Uploads                                  0\n",
       "Country                                122\n",
       "Channel_Type                            30\n",
       "Video_Views_Rank                         1\n",
       "Country_Rank                           116\n",
       "Channel_Type_Rank                       33\n",
       "Video_Views_For_The_Last_30_Days        56\n",
       "Lowest_Monthly_Earnings                  0\n",
       "Highest_Monthly_Earnings                 0\n",
       "Lowest_Yearly_Earnings                   0\n",
       "Highest_Yearly_Earnings                  0\n",
       "Subscribers_For_Last_30_Days           337\n",
       "Created_Year                             5\n",
       "Created_Month                            5\n",
       "Created_Date                             5\n",
       "Gross_Tertiary_Education_Enrollment    123\n",
       "Population                             123\n",
       "Unemployment_Rate                      123\n",
       "Urban_Population                       123\n",
       "Latitude                               123\n",
       "Longitude                              123\n",
       "dtype: int64"
      ]
     },
     "execution_count": 47,
     "metadata": {},
     "output_type": "execute_result"
    }
   ],
   "source": [
    "# Determine all columns with count of null values\n",
    "data.isna().sum()"
   ]
  },
  {
   "cell_type": "code",
   "execution_count": 48,
   "id": "5e711606",
   "metadata": {},
   "outputs": [],
   "source": [
    "# Drop the rows with nan values on the date columns\n",
    "data.dropna(subset=['Created_Year', 'Created_Month', 'Created_Date'],inplace=True)"
   ]
  },
  {
   "cell_type": "code",
   "execution_count": 49,
   "id": "61bbfd90",
   "metadata": {},
   "outputs": [
    {
     "data": {
      "text/plain": [
       "Category\n",
       "Entertainment            240\n",
       "Music                    200\n",
       "People & Blogs           131\n",
       "Gaming                    93\n",
       "Comedy                    69\n",
       "Film & Animation          46\n",
       "NaN                       46\n",
       "Education                 45\n",
       "Howto & Style             40\n",
       "News & Politics           26\n",
       "Science & Technology      17\n",
       "Shows                     13\n",
       "Sports                    11\n",
       "Pets & Animals             4\n",
       "Trailers                   2\n",
       "Nonprofits & Activism      2\n",
       "Movies                     2\n",
       "Autos & Vehicles           2\n",
       "Travel & Events            1\n",
       "Name: count, dtype: int64"
      ]
     },
     "execution_count": 49,
     "metadata": {},
     "output_type": "execute_result"
    }
   ],
   "source": [
    "# Return the category and NaN values with their unique count\n",
    "data['Category'].value_counts(dropna=False)"
   ]
  },
  {
   "cell_type": "code",
   "execution_count": 50,
   "id": "2c57607d",
   "metadata": {},
   "outputs": [],
   "source": [
    "# Replace NaN values with 'Others'\n",
    "data['Category']=data['Category'].fillna('Others')"
   ]
  },
  {
   "cell_type": "code",
   "execution_count": 51,
   "id": "a093274f",
   "metadata": {},
   "outputs": [
    {
     "data": {
      "text/plain": [
       "Country\n",
       "United States           312\n",
       "India                   168\n",
       "NaN                     120\n",
       "Brazil                   61\n",
       "United Kingdom           43\n",
       "Mexico                   33\n",
       "Indonesia                28\n",
       "Spain                    22\n",
       "Thailand                 18\n",
       "South Korea              17\n",
       "Russia                   16\n",
       "Canada                   15\n",
       "Argentina                13\n",
       "Philippines              12\n",
       "Colombia                 11\n",
       "Saudi Arabia              9\n",
       "Australia                 8\n",
       "Ukraine                   8\n",
       "United Arab Emirates      7\n",
       "Germany                   6\n",
       "Pakistan                  6\n",
       "France                    5\n",
       "Japan                     5\n",
       "Turkey                    4\n",
       "Sweden                    4\n",
       "Vietnam                   3\n",
       "Jordan                    3\n",
       "Netherlands               3\n",
       "Singapore                 3\n",
       "Chile                     3\n",
       "Egypt                     2\n",
       "Ecuador                   2\n",
       "Iraq                      2\n",
       "Italy                     2\n",
       "China                     1\n",
       "Peru                      1\n",
       "Andorra                   1\n",
       "Bangladesh                1\n",
       "Finland                   1\n",
       "Morocco                   1\n",
       "Kuwait                    1\n",
       "Malaysia                  1\n",
       "Switzerland               1\n",
       "Latvia                    1\n",
       "Afghanistan               1\n",
       "Venezuela                 1\n",
       "Barbados                  1\n",
       "El Salvador               1\n",
       "Cuba                      1\n",
       "Samoa                     1\n",
       "Name: count, dtype: int64"
      ]
     },
     "execution_count": 51,
     "metadata": {},
     "output_type": "execute_result"
    }
   ],
   "source": [
    "# Return category and NaN values with their unique count\n",
    "data['Country'].value_counts(dropna=False)"
   ]
  },
  {
   "cell_type": "code",
   "execution_count": 52,
   "id": "e5bf2ec2",
   "metadata": {},
   "outputs": [],
   "source": [
    "# Replace NaN values with 'Others'\n",
    "data['Country']=data['Country'].fillna('Others')"
   ]
  },
  {
   "cell_type": "code",
   "execution_count": 53,
   "id": "76658d86",
   "metadata": {},
   "outputs": [
    {
     "data": {
      "text/plain": [
       "Channel_Type\n",
       "Entertainment    304\n",
       "Music            215\n",
       "People           101\n",
       "Games             97\n",
       "Comedy            51\n",
       "Education         49\n",
       "Film              42\n",
       "Howto             36\n",
       "News              30\n",
       "NaN               27\n",
       "Tech              17\n",
       "Sports            13\n",
       "Autos              3\n",
       "Animals            3\n",
       "Nonprofit          2\n",
       "Name: count, dtype: int64"
      ]
     },
     "execution_count": 53,
     "metadata": {},
     "output_type": "execute_result"
    }
   ],
   "source": [
    "# return category and NaN values with their unique count\n",
    "data['Channel_Type'].value_counts(dropna=False)"
   ]
  },
  {
   "cell_type": "code",
   "execution_count": 54,
   "id": "be0bb943",
   "metadata": {},
   "outputs": [],
   "source": [
    "# Replace NaN values with 'Others'\n",
    "data['Channel_Type']=data['Channel_Type'].fillna('Others')"
   ]
  },
  {
   "cell_type": "code",
   "execution_count": 55,
   "id": "668dbe9b",
   "metadata": {},
   "outputs": [
    {
     "data": {
      "text/plain": [
       "Country_Rank\n",
       "NaN       114\n",
       "1.0        43\n",
       "2.0        30\n",
       "3.0        26\n",
       "5.0        19\n",
       "         ... \n",
       "4248.0      1\n",
       "1920.0      1\n",
       "48.0        1\n",
       "133.0       1\n",
       "867.0       1\n",
       "Name: count, Length: 244, dtype: int64"
      ]
     },
     "execution_count": 55,
     "metadata": {},
     "output_type": "execute_result"
    }
   ],
   "source": [
    "# Return category and NaN values with their unique count\n",
    "data['Country_Rank'].value_counts(dropna=False)"
   ]
  },
  {
   "cell_type": "code",
   "execution_count": 56,
   "id": "68d3ca75",
   "metadata": {},
   "outputs": [],
   "source": [
    "# Fill with zero and mean value\n",
    "data['Video_Views_Rank']=data['Video_Views_Rank'].fillna(0)\n",
    "data['Country_Rank']=data['Country_Rank'].fillna(0)\n",
    "data['Channel_Type_Rank']=data['Channel_Type_Rank'].fillna(0)\n",
    "data['Video_Views_For_The_Last_30_Days']=data['Video_Views_For_The_Last_30_Days'].fillna(0)\n",
    "data['Subscribers_For_Last_30_Days']=data['Subscribers_For_Last_30_Days'].fillna(0)\n",
    "data['Gross_Tertiary_Education_Enrollment']=data['Gross_Tertiary_Education_Enrollment'].fillna(data['Gross_Tertiary_Education_Enrollment'].mean())\n",
    "data['Population']=data['Population'].fillna(data['Population'].mean())\n",
    "data['Unemployment_Rate']=data['Unemployment_Rate'].fillna(data['Unemployment_Rate'].mean())\n",
    "data['Urban_Population']=data['Urban_Population'].fillna(data['Urban_Population'].mean())\n",
    "data['Latitude']=data['Latitude'].fillna(0)\n",
    "data['Longitude']=data['Longitude'].fillna(0)\n",
    "\n",
    "# For rank and video views, it is safe to replace them with zero values since it's not valid to replace it with mean value"
   ]
  },
  {
   "cell_type": "code",
   "execution_count": 57,
   "id": "01c7c2ab",
   "metadata": {},
   "outputs": [
    {
     "data": {
      "text/plain": [
       "Youtuber                               0\n",
       "Subscribers                            0\n",
       "Video_Views                            0\n",
       "Category                               0\n",
       "Uploads                                0\n",
       "Country                                0\n",
       "Channel_Type                           0\n",
       "Video_Views_Rank                       0\n",
       "Country_Rank                           0\n",
       "Channel_Type_Rank                      0\n",
       "Video_Views_For_The_Last_30_Days       0\n",
       "Lowest_Monthly_Earnings                0\n",
       "Highest_Monthly_Earnings               0\n",
       "Lowest_Yearly_Earnings                 0\n",
       "Highest_Yearly_Earnings                0\n",
       "Subscribers_For_Last_30_Days           0\n",
       "Created_Year                           0\n",
       "Created_Month                          0\n",
       "Created_Date                           0\n",
       "Gross_Tertiary_Education_Enrollment    0\n",
       "Population                             0\n",
       "Unemployment_Rate                      0\n",
       "Urban_Population                       0\n",
       "Latitude                               0\n",
       "Longitude                              0\n",
       "dtype: int64"
      ]
     },
     "execution_count": 57,
     "metadata": {},
     "output_type": "execute_result"
    }
   ],
   "source": [
    "# Check again for any missing values\n",
    "data.isna().sum()"
   ]
  },
  {
   "cell_type": "code",
   "execution_count": 58,
   "id": "e491cf39",
   "metadata": {},
   "outputs": [
    {
     "name": "stdout",
     "output_type": "stream",
     "text": [
      "<class 'pandas.core.frame.DataFrame'>\n",
      "Index: 990 entries, 0 to 994\n",
      "Data columns (total 25 columns):\n",
      " #   Column                               Non-Null Count  Dtype  \n",
      "---  ------                               --------------  -----  \n",
      " 0   Youtuber                             990 non-null    object \n",
      " 1   Subscribers                          990 non-null    int64  \n",
      " 2   Video_Views                          990 non-null    float64\n",
      " 3   Category                             990 non-null    object \n",
      " 4   Uploads                              990 non-null    int64  \n",
      " 5   Country                              990 non-null    object \n",
      " 6   Channel_Type                         990 non-null    object \n",
      " 7   Video_Views_Rank                     990 non-null    float64\n",
      " 8   Country_Rank                         990 non-null    float64\n",
      " 9   Channel_Type_Rank                    990 non-null    float64\n",
      " 10  Video_Views_For_The_Last_30_Days     990 non-null    float64\n",
      " 11  Lowest_Monthly_Earnings              990 non-null    float64\n",
      " 12  Highest_Monthly_Earnings             990 non-null    float64\n",
      " 13  Lowest_Yearly_Earnings               990 non-null    float64\n",
      " 14  Highest_Yearly_Earnings              990 non-null    float64\n",
      " 15  Subscribers_For_Last_30_Days         990 non-null    float64\n",
      " 16  Created_Year                         990 non-null    float64\n",
      " 17  Created_Month                        990 non-null    object \n",
      " 18  Created_Date                         990 non-null    float64\n",
      " 19  Gross_Tertiary_Education_Enrollment  990 non-null    float64\n",
      " 20  Population                           990 non-null    float64\n",
      " 21  Unemployment_Rate                    990 non-null    float64\n",
      " 22  Urban_Population                     990 non-null    float64\n",
      " 23  Latitude                             990 non-null    float64\n",
      " 24  Longitude                            990 non-null    float64\n",
      "dtypes: float64(18), int64(2), object(5)\n",
      "memory usage: 201.1+ KB\n"
     ]
    }
   ],
   "source": [
    "data.info()"
   ]
  },
  {
   "cell_type": "code",
   "execution_count": 59,
   "id": "5186c728",
   "metadata": {},
   "outputs": [],
   "source": [
    "# Join the Year, Month and Day column into one date column\n",
    "data['Date']=data['Created_Year'].astype(int).astype(str) + '-' + data['Created_Month'].astype(str) + '-' + data['Created_Date'].astype(int).astype(str)"
   ]
  },
  {
   "cell_type": "code",
   "execution_count": 60,
   "id": "e8cc875e",
   "metadata": {},
   "outputs": [],
   "source": [
    "# Convert the date column into date type format\n",
    "data['Date']=pd.to_datetime(data['Date']).dt.strftime('%Y-%m-%d %H:%M:%S.%f')"
   ]
  },
  {
   "cell_type": "code",
   "execution_count": 61,
   "id": "7a13c051",
   "metadata": {},
   "outputs": [],
   "source": [
    "# Drop the Year, Month and Day column since we already join them into one date column\n",
    "data.drop(['Created_Year','Created_Date','Created_Month'],axis=1, inplace=True)"
   ]
  },
  {
   "cell_type": "code",
   "execution_count": 62,
   "id": "5a1b1be2",
   "metadata": {},
   "outputs": [
    {
     "name": "stdout",
     "output_type": "stream",
     "text": [
      "<class 'pandas.core.frame.DataFrame'>\n",
      "Index: 990 entries, 0 to 994\n",
      "Data columns (total 23 columns):\n",
      " #   Column                               Non-Null Count  Dtype  \n",
      "---  ------                               --------------  -----  \n",
      " 0   Youtuber                             990 non-null    object \n",
      " 1   Subscribers                          990 non-null    int64  \n",
      " 2   Video_Views                          990 non-null    float64\n",
      " 3   Category                             990 non-null    object \n",
      " 4   Uploads                              990 non-null    int64  \n",
      " 5   Country                              990 non-null    object \n",
      " 6   Channel_Type                         990 non-null    object \n",
      " 7   Video_Views_Rank                     990 non-null    float64\n",
      " 8   Country_Rank                         990 non-null    float64\n",
      " 9   Channel_Type_Rank                    990 non-null    float64\n",
      " 10  Video_Views_For_The_Last_30_Days     990 non-null    float64\n",
      " 11  Lowest_Monthly_Earnings              990 non-null    float64\n",
      " 12  Highest_Monthly_Earnings             990 non-null    float64\n",
      " 13  Lowest_Yearly_Earnings               990 non-null    float64\n",
      " 14  Highest_Yearly_Earnings              990 non-null    float64\n",
      " 15  Subscribers_For_Last_30_Days         990 non-null    float64\n",
      " 16  Gross_Tertiary_Education_Enrollment  990 non-null    float64\n",
      " 17  Population                           990 non-null    float64\n",
      " 18  Unemployment_Rate                    990 non-null    float64\n",
      " 19  Urban_Population                     990 non-null    float64\n",
      " 20  Latitude                             990 non-null    float64\n",
      " 21  Longitude                            990 non-null    float64\n",
      " 22  Date                                 990 non-null    object \n",
      "dtypes: float64(16), int64(2), object(5)\n",
      "memory usage: 185.6+ KB\n"
     ]
    }
   ],
   "source": [
    "# Check again if all columns have correct data types \n",
    "data.info()"
   ]
  },
  {
   "cell_type": "code",
   "execution_count": 63,
   "id": "4e941dc5",
   "metadata": {},
   "outputs": [],
   "source": [
    "data.to_csv(\"cleaned_data.csv\",encoding=\"windows-1252\",index=False)"
   ]
  },
  {
   "cell_type": "code",
   "execution_count": null,
   "id": "1207968c",
   "metadata": {},
   "outputs": [],
   "source": []
  }
 ],
 "metadata": {
  "kernelspec": {
   "display_name": "Python 3 (ipykernel)",
   "language": "python",
   "name": "python3"
  },
  "language_info": {
   "codemirror_mode": {
    "name": "ipython",
    "version": 3
   },
   "file_extension": ".py",
   "mimetype": "text/x-python",
   "name": "python",
   "nbconvert_exporter": "python",
   "pygments_lexer": "ipython3",
   "version": "3.10.9"
  }
 },
 "nbformat": 4,
 "nbformat_minor": 5
}
